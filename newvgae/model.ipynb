{
 "cells": [
  {
   "cell_type": "code",
   "execution_count": null,
   "metadata": {},
   "outputs": [],
   "source": [
    "# TODO: Get Plots for ROC\n",
    "# TODO: Step through Code\n",
    "# TODO: Look at embeddings\n",
    "# TODO: Graph kernel similarity in loss"
   ]
  },
  {
   "cell_type": "code",
   "execution_count": 3,
   "metadata": {},
   "outputs": [],
   "source": [
    "import os.path as osp\n",
    "\n",
    "import argparse\n",
    "\n",
    "import torch\n",
    "import torch.nn.functional as F\n",
    "from torch_geometric.datasets import Planetoid\n",
    "import torch_geometric.transforms as T\n",
    "from torch_geometric.nn import GCNConv\n",
    "from vgae import GAE, VGAE"
   ]
  },
  {
   "cell_type": "code",
   "execution_count": 4,
   "metadata": {},
   "outputs": [],
   "source": [
    "dataset = 'Cora'\n",
    "path = '../data/geometric/' + dataset.upper()\n",
    "\n",
    "dataset = Planetoid(path, dataset, T.NormalizeFeatures())\n",
    "data = dataset[0]\n",
    "\n",
    "parser = argparse.ArgumentParser()\n",
    "parser.add_argument('--model', type=str, default='VGAE')\n",
    "args, unknown = parser.parse_known_args()\n",
    "\n",
    "assert args.model in ['GAE', 'VGAE']\n",
    "kwargs = {'GAE': GAE, 'VGAE': VGAE}"
   ]
  },
  {
   "cell_type": "code",
   "execution_count": 7,
   "metadata": {},
   "outputs": [
    {
     "name": "stdout",
     "output_type": "stream",
     "text": [
      "Epoch: 010, AUC: 0.7823, AP: 0.7837\n",
      "Epoch: 020, AUC: 0.7806, AP: 0.7810\n",
      "Epoch: 030, AUC: 0.7789, AP: 0.7774\n",
      "Epoch: 040, AUC: 0.7751, AP: 0.7749\n",
      "Epoch: 050, AUC: 0.7712, AP: 0.7758\n",
      "Epoch: 060, AUC: 0.7642, AP: 0.7765\n",
      "Epoch: 070, AUC: 0.7663, AP: 0.7801\n",
      "Epoch: 080, AUC: 0.7957, AP: 0.8023\n",
      "Epoch: 090, AUC: 0.8113, AP: 0.8103\n",
      "Epoch: 100, AUC: 0.8171, AP: 0.8161\n",
      "Epoch: 110, AUC: 0.8243, AP: 0.8305\n",
      "Epoch: 120, AUC: 0.8254, AP: 0.8324\n",
      "Epoch: 130, AUC: 0.8322, AP: 0.8366\n",
      "Epoch: 140, AUC: 0.8507, AP: 0.8512\n",
      "Epoch: 150, AUC: 0.8840, AP: 0.8892\n",
      "Epoch: 160, AUC: 0.9040, AP: 0.9079\n",
      "Epoch: 170, AUC: 0.9096, AP: 0.9131\n",
      "Epoch: 180, AUC: 0.9131, AP: 0.9176\n",
      "Epoch: 190, AUC: 0.9162, AP: 0.9212\n",
      "Epoch: 200, AUC: 0.9177, AP: 0.9226\n",
      "Test AUC: 0.9073, Test AP: 0.9021\n"
     ]
    }
   ],
   "source": [
    "class Encoder(torch.nn.Module):\n",
    "    def __init__(self, in_channels, out_channels):\n",
    "        super(Encoder, self).__init__()\n",
    "        self.conv1 = GCNConv(in_channels, 2 * out_channels, cached=True)\n",
    "\n",
    "        self.conv_mu = GCNConv(2 * out_channels, out_channels, cached=True)\n",
    "        self.conv_logvar = GCNConv(\n",
    "            2 * out_channels, out_channels, cached=True)\n",
    "\n",
    "    def forward(self, x, edge_index):\n",
    "        x = F.relu(self.conv1(x, edge_index))\n",
    "        \n",
    "        return self.conv_mu(x, edge_index), self.conv_logvar(x, edge_index)\n",
    "\n",
    "\n",
    "channels = 16\n",
    "device = torch.device('cuda' if torch.cuda.is_available() else 'cpu')\n",
    "\n",
    "model = kwargs[args.model](Encoder(dataset.num_features, channels)).to(device)\n",
    "\n",
    "data.train_mask = data.val_mask = data.test_mask = data.y = None\n",
    "data = model.split_edges(data)\n",
    "\n",
    "x, edge_index = data.x.to(device), data.edge_index.to(device)\n",
    "optimizer = torch.optim.Adam(model.parameters(), lr=0.01)\n",
    "\n",
    "def train():\n",
    "    model.train()\n",
    "    optimizer.zero_grad()\n",
    "    \n",
    "    z = model.encode(x, edge_index)\n",
    "    \n",
    "    loss = model.recon_loss(z, data.train_pos_edge_index)\n",
    "    loss = loss + 0.001 * model.kl_loss()\n",
    "    \n",
    "    loss.backward()\n",
    "    optimizer.step()\n",
    "\n",
    "\n",
    "def test(pos_edge_index, neg_edge_index):\n",
    "    model.eval()\n",
    "    with torch.no_grad():\n",
    "        z = model.encode(x, edge_index)\n",
    "        \n",
    "    return model.test(z, pos_edge_index, neg_edge_index)\n",
    "\n",
    "\n",
    "for epoch in range(1, 201):\n",
    "    train()\n",
    "    auc, ap = test(data.val_pos_edge_index, data.val_neg_edge_index)\n",
    "    if epoch % 10 == 0:\n",
    "        print('Epoch: {:03d}, AUC: {:.4f}, AP: {:.4f}'.format(epoch, auc, ap))\n",
    "\n",
    "auc, ap = test(data.test_pos_edge_index, data.test_neg_edge_index)\n",
    "print('Test AUC: {:.4f}, Test AP: {:.4f}'.format(auc, ap))"
   ]
  },
  {
   "cell_type": "code",
   "execution_count": null,
   "metadata": {},
   "outputs": [],
   "source": []
  }
 ],
 "metadata": {
  "kernelspec": {
   "display_name": "Python 3",
   "language": "python",
   "name": "python3"
  }
 },
 "nbformat": 4,
 "nbformat_minor": 2
}
