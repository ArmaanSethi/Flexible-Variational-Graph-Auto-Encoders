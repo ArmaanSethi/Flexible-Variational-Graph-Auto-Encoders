{
 "cells": [
  {
   "cell_type": "markdown",
   "metadata": {},
   "source": [
    "## Implementing our new load_data function to work within the new Pyro implementation"
   ]
  },
  {
   "cell_type": "code",
   "execution_count": 1,
   "metadata": {},
   "outputs": [],
   "source": [
    "import pickle as pkl\n",
    "import numpy as np\n",
    "import scipy.sparse as sp\n",
    "import torch\n",
    "import networkx as nx\n",
    "from sklearn.metrics import roc_auc_score, average_precision_score, accuracy_score\n",
    "import matplotlib.pyplot as plt"
   ]
  },
  {
   "cell_type": "code",
   "execution_count": 2,
   "metadata": {
    "scrolled": false
   },
   "outputs": [],
   "source": [
    "### Auxiliary function\n",
    "def parse_index_file(filename):\n",
    "    index = []\n",
    "    for line in open(filename):\n",
    "        index.append(int(line.strip()))\n",
    "    return index\n",
    "\n",
    "def old_load_data(dataset):\n",
    "    # load the data: x, tx, allx, graph\n",
    "    names = ['x', 'tx', 'allx', 'graph']\n",
    "    objects = []\n",
    "    for i in range(len(names)): \n",
    "\n",
    "        # Fixed pkl compatability using with open \n",
    "        with open(\"../data/paperData/ind.{}.{}\".format(dataset, names[i]), 'rb') as rf:\n",
    "            u = pkl._Unpickler(rf)\n",
    "            u.encoding = 'latin1'\n",
    "            cur_data = u.load()\n",
    "            objects.append(cur_data)\n",
    "    x, tx, allx, graph = tuple(objects)\n",
    "    \n",
    "    test_idx_reorder = parse_index_file(\n",
    "        \"../data/paperData/ind.{}.test.index\".format(dataset))\n",
    "    test_idx_range = np.sort(test_idx_reorder)  \n",
    "\n",
    "\n",
    "    if dataset == 'citeseer':\n",
    "        # Fix citeseer dataset (there are some isolated nodes in the graph)\n",
    "        # Find isolated nodes, add them as zero-vecs into the right position\n",
    "        test_idx_range_full = range(\n",
    "            min(test_idx_reorder), max(test_idx_reorder) + 1)\n",
    "        tx_extended = sp.lil_matrix((len(test_idx_range_full), x.shape[1]))\n",
    "        tx_extended[test_idx_range - min(test_idx_range), :] = tx\n",
    "        tx = tx_extended\n",
    "        print(tx.shape)\n",
    "        print(allx.shape)\n",
    "\n",
    "    features = sp.vstack((allx, tx)).tolil()\n",
    "    features[test_idx_reorder, :] = features[test_idx_range, :]\n",
    "    \n",
    "    features = torch.FloatTensor(np.array(features.todense()))\n",
    "    adj = nx.adjacency_matrix(nx.from_dict_of_lists(graph))\n",
    "\n",
    "    return adj, features\n",
    "\n",
    "oldadj, oldfeatures = old_load_data('cora')"
   ]
  },
  {
   "cell_type": "code",
   "execution_count": 3,
   "metadata": {},
   "outputs": [
    {
     "name": "stdout",
     "output_type": "stream",
     "text": [
      "Old adj     :  (2708, 2708) <class 'scipy.sparse.csr.csr_matrix'>\n",
      "Old features:  tensor([[0., 0., 0.,  ..., 0., 0., 0.],\n",
      "        [0., 0., 0.,  ..., 0., 0., 0.],\n",
      "        [0., 0., 0.,  ..., 0., 0., 0.],\n",
      "        ...,\n",
      "        [0., 0., 0.,  ..., 0., 0., 0.],\n",
      "        [0., 0., 0.,  ..., 0., 0., 0.],\n",
      "        [0., 0., 0.,  ..., 0., 0., 0.]]) torch.Size([2708, 1433]) <class 'torch.Tensor'>\n"
     ]
    }
   ],
   "source": [
    "print('Old adj     : ', oldadj.shape, type(oldadj))\n",
    "print('Old features: ', oldfeatures, oldfeatures.shape, type(oldfeatures))"
   ]
  },
  {
   "cell_type": "code",
   "execution_count": 4,
   "metadata": {},
   "outputs": [],
   "source": [
    "from torch_geometric.data import DataLoader\n",
    "from torch_geometric.datasets import MNISTSuperpixels, Planetoid\n",
    "import torch_geometric.transforms as T\n",
    "from collections import defaultdict"
   ]
  },
  {
   "cell_type": "code",
   "execution_count": 5,
   "metadata": {},
   "outputs": [],
   "source": [
    "def new_load_data(dataset):\n",
    "    planetoids = ['CORA', 'CITESEER', 'PUBMED']\n",
    "\n",
    "    if dataset.upper() in planetoids:\n",
    "        path = '../data/geometric/' + dataset.upper()\n",
    "        train_loader = Planetoid(path, dataset)\n",
    "        df = train_loader[0]\n",
    "\n",
    "    allx = df['x'][~df.test_mask]\n",
    "    tx = df['x'][df.test_mask]    \n",
    "    print(df['x'])\n",
    "#     if dataset.upper() == 'CITESEER':\n",
    "#         # Fix citeseer dataset (there are some isolated nodes in the graph)\n",
    "#         # Find isolated nodes, add them as zero-vecs into the right position\n",
    "#         test_idx_range = np.array(np.nonzero(df['test_mask'])).flatten()\n",
    "#         test_idx_range_full = range(\n",
    "#             min(test_idx_range), max(test_idx_range) + 1)\n",
    "        \n",
    "#         tx_extended = sp.lil_matrix((len(test_idx_range_full), df['x'].shape[1]))\n",
    "        \n",
    "#         tx_extended[test_idx_range - min(test_idx_range), :] = tx\n",
    "#         tx = tx_extended\n",
    "    features = sp.vstack((allx, tx)).tolil()\n",
    "    features = torch.FloatTensor(np.array(features.todense()))\n",
    "    \n",
    "    edgeList = np.array(df['edge_index'].transpose(1, 0))\n",
    "    edgeList = list(map(tuple, edgeList))\n",
    "\n",
    "    d = defaultdict(list)\n",
    "    for k, v in edgeList:\n",
    "        d[k].append(v)\n",
    "\n",
    "    adj = nx.adjacency_matrix(nx.from_dict_of_lists(d))\n",
    "\n",
    "    return adj, features\n"
   ]
  },
  {
   "cell_type": "code",
   "execution_count": 6,
   "metadata": {},
   "outputs": [
    {
     "name": "stdout",
     "output_type": "stream",
     "text": [
      "tensor([[0., 0., 0.,  ..., 0., 0., 0.],\n",
      "        [0., 0., 0.,  ..., 0., 0., 0.],\n",
      "        [0., 0., 0.,  ..., 0., 0., 0.],\n",
      "        ...,\n",
      "        [0., 0., 0.,  ..., 0., 0., 0.],\n",
      "        [0., 0., 0.,  ..., 0., 0., 0.],\n",
      "        [0., 0., 0.,  ..., 0., 0., 0.]])\n",
      "New adj     :  (2708, 2708) <class 'scipy.sparse.csr.csr_matrix'>\n",
      "New features:  tensor([[0., 0., 0.,  ..., 0., 0., 0.],\n",
      "        [0., 0., 0.,  ..., 0., 0., 0.],\n",
      "        [0., 0., 0.,  ..., 0., 0., 0.],\n",
      "        ...,\n",
      "        [0., 0., 0.,  ..., 0., 0., 0.],\n",
      "        [0., 0., 0.,  ..., 0., 0., 0.],\n",
      "        [0., 0., 0.,  ..., 0., 0., 0.]]) torch.Size([2708, 1433]) <class 'torch.Tensor'>\n"
     ]
    }
   ],
   "source": [
    "adj, features = new_load_data('cora')\n",
    "\n",
    "print('New adj     : ', adj.shape, type(adj))\n",
    "print('New features: ', features, features.shape, type(features))"
   ]
  },
  {
   "cell_type": "code",
   "execution_count": 7,
   "metadata": {},
   "outputs": [
    {
     "name": "stdout",
     "output_type": "stream",
     "text": [
      "True\n"
     ]
    },
    {
     "data": {
      "text/plain": [
       "True"
      ]
     },
     "execution_count": 7,
     "metadata": {},
     "output_type": "execute_result"
    }
   ],
   "source": [
    "# print(np.array(features))\n",
    "print(np.array_equal(np.array(oldfeatures), np.array(features)))\n",
    "np.array_equal(np.array(adj.todense()), np.array(oldadj.todense()))"
   ]
  },
  {
   "cell_type": "code",
   "execution_count": 8,
   "metadata": {},
   "outputs": [],
   "source": [
    "### Test mask_test_edges function, possibly implement with masking instead"
   ]
  },
  {
   "cell_type": "code",
   "execution_count": 9,
   "metadata": {},
   "outputs": [],
   "source": [
    "G = nx.from_scipy_sparse_matrix(adj)"
   ]
  }
 ],
 "metadata": {
  "kernelspec": {
   "display_name": "Python 3",
   "language": "python",
   "name": "python3"
  },
  "language_info": {
   "codemirror_mode": {
    "name": "ipython",
    "version": 3
   },
   "file_extension": ".py",
   "mimetype": "text/x-python",
   "name": "python",
   "nbconvert_exporter": "python",
   "pygments_lexer": "ipython3",
   "version": "3.7.1"
  }
 },
 "nbformat": 4,
 "nbformat_minor": 2
}
