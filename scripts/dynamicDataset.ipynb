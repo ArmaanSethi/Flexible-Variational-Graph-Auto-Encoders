{
 "cells": [
  {
   "cell_type": "code",
   "execution_count": 1,
   "metadata": {},
   "outputs": [],
   "source": [
    "from __future__ import print_function, division\n",
    "\n",
    "import networkx as nx\n",
    "from graphviz import Digraph\n",
    "\n",
    "import torch\n",
    "import numpy as np\n",
    "import pandas as pd \n",
    "import matplotlib.pyplot as plt\n",
    "\n",
    "from torch.utils.data import Dataset\n",
    "\n",
    "from datasets import dynamicDataset\n",
    "\n",
    "from tqdm import tqdm\n",
    "import warnings\n",
    "\n",
    "warnings.filterwarnings(\"ignore\")\n",
    "\n",
    "%matplotlib inline"
   ]
  },
  {
   "cell_type": "code",
   "execution_count": 92,
   "metadata": {},
   "outputs": [
    {
     "name": "stdout",
     "output_type": "stream",
     "text": [
      "                     from  to    unixTime\n",
      "timestamp                                \n",
      "2009-09-29 02:56:28     1   4  1254192988\n",
      "2009-09-29 03:24:16     3   4  1254194656\n",
      "2009-09-29 05:36:52     1   2  1254202612\n",
      "2009-09-29 14:00:04    25   1  1254232804\n",
      "2009-09-29 22:26:06    14  16  1254263166\n"
     ]
    }
   ],
   "source": [
    "df = pd.read_csv(\"../data/mathOverflow/sx-mathoverflow.txt\", sep=\" \", header=None)\n",
    "df[3] = pd.to_datetime(df[2], unit='s')\n",
    "df.columns = ['from', 'to', 'unixTime', 'timestamp']\n",
    "df.set_index('timestamp', inplace=True)"
   ]
  },
  {
   "cell_type": "code",
   "execution_count": 2,
   "metadata": {
    "scrolled": true
   },
   "outputs": [
    {
     "name": "stdout",
     "output_type": "stream",
     "text": [
      "                     from  to    unixTime\n",
      "timestamp                                \n",
      "2009-09-29 02:56:28     1   4  1254192988\n",
      "2009-09-29 03:24:16     3   4  1254194656\n",
      "2009-09-29 05:36:52     1   2  1254202612\n",
      "2009-09-29 14:00:04    25   1  1254232804\n",
      "2009-09-29 22:26:06    14  16  1254263166\n"
     ]
    }
   ],
   "source": [
    "# df = dynamicDataset(path=\"../data/mathOverflow/sx-mathoverflow.txt\")\n",
    "# print(df.data.head())"
   ]
  },
  {
   "cell_type": "code",
   "execution_count": 3,
   "metadata": {},
   "outputs": [],
   "source": [
    "# Group by particular time value (year, month ,date)\n",
    "data = df.data.groupby(by=[df.data.index.year, df.data.index.month])\n",
    "\n",
    "# for name, group in data:\n",
    "#     print(name)\n",
    "#     print(group)"
   ]
  },
  {
   "cell_type": "code",
   "execution_count": 4,
   "metadata": {},
   "outputs": [],
   "source": [
    "# Create a list of all the keys within the groupby\n",
    "keys = list(data.groups.keys())\n",
    "\n",
    "# Create a list of all the dataframes within the groupby\n",
    "\n",
    "dfs = []\n",
    "for key in keys:\n",
    "    dfs.append(data.get_group(key))"
   ]
  },
  {
   "cell_type": "code",
   "execution_count": 5,
   "metadata": {},
   "outputs": [],
   "source": [
    "# Concatenate rows from each timestep\n",
    "combined = []\n",
    "combined.append(dfs[0])\n",
    "\n",
    "for i in range(1, len(dfs)):\n",
    "    # Segment graph by nodes up to and including that time \n",
    "    combined.append(pd.concat([combined[i-1], dfs[i]]))\n",
    "    \n",
    "# Validate operation\n",
    "total = 0\n",
    "for i in range(len(combined)):\n",
    "    total += len(dfs[i])\n",
    "    assert(len(combined[i]) == total)"
   ]
  },
  {
   "cell_type": "code",
   "execution_count": 112,
   "metadata": {},
   "outputs": [
    {
     "name": "stderr",
     "output_type": "stream",
     "text": [
      "100%|███████████████████████████████████████████████████████████████████████████████████████████████████████████████████████████████████████████████████████████████████████████████████████████████████████████████████████████████████| 79/79 [02:00<00:00,  2.69s/it]\n"
     ]
    }
   ],
   "source": [
    "# Recreate adjacency matrix at each time \n",
    "\n",
    "adjacencies = []\n",
    "\n",
    "for i in tqdm(range(len(combined))):\n",
    "    adjacency = nx.from_edgelist(combined[i].iloc[:, :2].values, create_using=nx.DiGraph)\n",
    "    nx.write_adjlist(adjacency,\"../data/temp/edgeLists/test\"+str(i)+\".adjlist\")\n",
    "    #adjacencies.append(nx.to_numpy_matrix(adjacency))"
   ]
  },
  {
   "cell_type": "code",
   "execution_count": 82,
   "metadata": {},
   "outputs": [],
   "source": [
    "# graph1 = nx.from_numpy_matrix(np.vstack(adjacencies[0]))\n",
    "# np.random.seed(0)\n",
    "# plt.figure(figsize=(20, 20))\n",
    "\n",
    "# nx.draw_networkx(graph1)\n",
    "# plt.draw() "
   ]
  }
 ],
 "metadata": {
  "kernelspec": {
   "display_name": "Python 3",
   "language": "python",
   "name": "python3"
  },
  "language_info": {
   "codemirror_mode": {
    "name": "ipython",
    "version": 3
   },
   "file_extension": ".py",
   "mimetype": "text/x-python",
   "name": "python",
   "nbconvert_exporter": "python",
   "pygments_lexer": "ipython3",
   "version": "3.6.7"
  }
 },
 "nbformat": 4,
 "nbformat_minor": 2
}
