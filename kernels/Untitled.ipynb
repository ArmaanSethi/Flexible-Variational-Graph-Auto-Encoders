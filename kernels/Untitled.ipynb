{
 "cells": [
  {
   "cell_type": "code",
   "execution_count": 16,
   "metadata": {},
   "outputs": [],
   "source": [
    "from graph_kernels import sp_kernel\n",
    "import networkx as nx \n",
    "\n",
    "import networkx as nx\n",
    "from graphviz import Digraph\n",
    "\n",
    "# import matplotlib.pyplot as plt\n",
    "\n",
    "# %matplotlib ineline"
   ]
  },
  {
   "cell_type": "code",
   "execution_count": 32,
   "metadata": {},
   "outputs": [
    {
     "ename": "IndentationError",
     "evalue": "unindent does not match any outer indentation level (<tokenize>, line 22)",
     "output_type": "error",
     "traceback": [
      "\u001b[1;36m  File \u001b[1;32m\"<tokenize>\"\u001b[1;36m, line \u001b[1;32m22\u001b[0m\n\u001b[1;33m    print(len(sp_lengths))\u001b[0m\n\u001b[1;37m    ^\u001b[0m\n\u001b[1;31mIndentationError\u001b[0m\u001b[1;31m:\u001b[0m unindent does not match any outer indentation level\n"
     ]
    }
   ],
   "source": [
    "import networkx as nx\n",
    "import numpy as np\n",
    "from collections import defaultdict\n",
    "import copy\n",
    "from scipy.sparse import lil_matrix\n",
    "\n",
    "def sp_kernel(g1, g2=None):\n",
    "\tif g2 != None:\n",
    "\t\tgraphs = []\n",
    "\t\tfor g in g1:\n",
    "\t\t\tgraphs.append(g)\n",
    "\t\tfor g in g2:\n",
    "\t\t\tgraphs.append(g)\n",
    "\telse:\n",
    "\t\tgraphs = g1\n",
    "\n",
    "\tsp_lengths = []\n",
    "\n",
    "\tfor graph in graphs:\n",
    "\t\tsp_lengths.append(nx.shortest_path_length(graph))\n",
    "        \n",
    "    print(len(sp_lengths))\n",
    "\n",
    "\tN = len(graphs)\n",
    "\tall_paths = {}\n",
    "\tsp_counts = {}\n",
    "\tfor i in range(N):\n",
    "\t\tsp_counts[i] = {}\n",
    "\t\tnodes = graphs[i].nodes()\n",
    "\t\tfor v1 in nodes:\n",
    "\t\t    for v2 in nodes:\n",
    "\t\t        if v2 in sp_lengths[i][v1]:\n",
    "\t\t\t       \tlabel = sp_lengths[i][v1][v2]\n",
    "\t\t\t        if label in sp_counts[i]:\n",
    "\t\t\t            sp_counts[i][label] += 1\n",
    "\t\t\t        else:\n",
    "\t\t\t            sp_counts[i][label] = 1\n",
    "\n",
    "\t\t\t        if label not in all_paths:\n",
    "\t\t\t            all_paths[label] = len(all_paths)\n",
    "\n",
    "\tphi = lil_matrix((N,len(all_paths)))\n",
    "\n",
    "\tfor i in range(N):\n",
    "\t\tfor label in sp_counts[i]:\n",
    "\t\t    phi[i,all_paths[label]] = sp_counts[i][label]\n",
    "\n",
    "\tif g2 != None:\n",
    "\t\tK = np.dot(phi[:len(g1),:],phi[len(g1):,:].T)\n",
    "\telse:\n",
    "\t\tK = np.dot(phi,phi.T)\n",
    "\n",
    "\tK = np.asarray(K.todense())\n",
    "\n",
    "\treturn K"
   ]
  },
  {
   "cell_type": "markdown",
   "metadata": {},
   "source": []
  },
  {
   "cell_type": "code",
   "execution_count": 33,
   "metadata": {},
   "outputs": [],
   "source": [
    "graph1 = [nx.erdos_renyi_graph(10, p=.5,seed=15)]\n",
    "graph2 = [nx.erdos_renyi_graph(10, p=.5,seed=15)]"
   ]
  },
  {
   "cell_type": "code",
   "execution_count": 34,
   "metadata": {},
   "outputs": [
    {
     "ename": "TypeError",
     "evalue": "'generator' object is not subscriptable",
     "output_type": "error",
     "traceback": [
      "\u001b[1;31m---------------------------------------------------------------------------\u001b[0m",
      "\u001b[1;31mTypeError\u001b[0m                                 Traceback (most recent call last)",
      "\u001b[1;32m<ipython-input-34-39cd635924cb>\u001b[0m in \u001b[0;36m<module>\u001b[1;34m\u001b[0m\n\u001b[1;32m----> 1\u001b[1;33m \u001b[0msp_kernel\u001b[0m\u001b[1;33m(\u001b[0m\u001b[0mgraph1\u001b[0m\u001b[1;33m,\u001b[0m \u001b[0mgraph2\u001b[0m\u001b[1;33m)\u001b[0m\u001b[1;33m\u001b[0m\u001b[1;33m\u001b[0m\u001b[0m\n\u001b[0m",
      "\u001b[1;32m<ipython-input-17-977c9cfb9c2a>\u001b[0m in \u001b[0;36msp_kernel\u001b[1;34m(g1, g2)\u001b[0m\n\u001b[0;32m     28\u001b[0m                 \u001b[1;32mfor\u001b[0m \u001b[0mv1\u001b[0m \u001b[1;32min\u001b[0m \u001b[0mnodes\u001b[0m\u001b[1;33m:\u001b[0m\u001b[1;33m\u001b[0m\u001b[1;33m\u001b[0m\u001b[0m\n\u001b[0;32m     29\u001b[0m                     \u001b[1;32mfor\u001b[0m \u001b[0mv2\u001b[0m \u001b[1;32min\u001b[0m \u001b[0mnodes\u001b[0m\u001b[1;33m:\u001b[0m\u001b[1;33m\u001b[0m\u001b[1;33m\u001b[0m\u001b[0m\n\u001b[1;32m---> 30\u001b[1;33m                         \u001b[1;32mif\u001b[0m \u001b[0mv2\u001b[0m \u001b[1;32min\u001b[0m \u001b[0msp_lengths\u001b[0m\u001b[1;33m[\u001b[0m\u001b[0mi\u001b[0m\u001b[1;33m]\u001b[0m\u001b[1;33m[\u001b[0m\u001b[0mv1\u001b[0m\u001b[1;33m]\u001b[0m\u001b[1;33m:\u001b[0m\u001b[1;33m\u001b[0m\u001b[1;33m\u001b[0m\u001b[0m\n\u001b[0m\u001b[0;32m     31\u001b[0m                                 \u001b[0mlabel\u001b[0m \u001b[1;33m=\u001b[0m \u001b[0msp_lengths\u001b[0m\u001b[1;33m[\u001b[0m\u001b[0mi\u001b[0m\u001b[1;33m]\u001b[0m\u001b[1;33m[\u001b[0m\u001b[0mv1\u001b[0m\u001b[1;33m]\u001b[0m\u001b[1;33m[\u001b[0m\u001b[0mv2\u001b[0m\u001b[1;33m]\u001b[0m\u001b[1;33m\u001b[0m\u001b[1;33m\u001b[0m\u001b[0m\n\u001b[0;32m     32\u001b[0m                                 \u001b[1;32mif\u001b[0m \u001b[0mlabel\u001b[0m \u001b[1;32min\u001b[0m \u001b[0msp_counts\u001b[0m\u001b[1;33m[\u001b[0m\u001b[0mi\u001b[0m\u001b[1;33m]\u001b[0m\u001b[1;33m:\u001b[0m\u001b[1;33m\u001b[0m\u001b[1;33m\u001b[0m\u001b[0m\n",
      "\u001b[1;31mTypeError\u001b[0m: 'generator' object is not subscriptable"
     ]
    }
   ],
   "source": [
    "sp_kernel(graph1, graph2)"
   ]
  },
  {
   "cell_type": "code",
   "execution_count": null,
   "metadata": {},
   "outputs": [],
   "source": []
  }
 ],
 "metadata": {
  "kernelspec": {
   "display_name": "Python 3",
   "language": "python",
   "name": "python3"
  },
  "language_info": {
   "codemirror_mode": {
    "name": "ipython",
    "version": 3
   },
   "file_extension": ".py",
   "mimetype": "text/x-python",
   "name": "python",
   "nbconvert_exporter": "python",
   "pygments_lexer": "ipython3",
   "version": "3.7.1"
  }
 },
 "nbformat": 4,
 "nbformat_minor": 2
}
