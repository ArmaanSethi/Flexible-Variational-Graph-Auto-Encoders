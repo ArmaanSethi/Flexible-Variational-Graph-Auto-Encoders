{
 "cells": [
  {
   "cell_type": "markdown",
   "metadata": {},
   "source": [
    "## Implementing our new load_data function to work within the new Pyro implementation"
   ]
  },
  {
   "cell_type": "code",
   "execution_count": 1,
   "metadata": {},
   "outputs": [],
   "source": [
    "import pickle as pkl\n",
    "import numpy as np\n",
    "import scipy.sparse as sp\n",
    "import torch\n",
    "import networkx as nx\n",
    "from sklearn.metrics import roc_auc_score, average_precision_score, accuracy_score\n",
    "import matplotlib.pyplot as plt"
   ]
  },
  {
   "cell_type": "code",
   "execution_count": 2,
   "metadata": {
    "scrolled": true
   },
   "outputs": [],
   "source": [
    "### Auxiliary function\n",
    "def parse_index_file(filename):\n",
    "    index = []\n",
    "    for line in open(filename):\n",
    "        index.append(int(line.strip()))\n",
    "    return index\n",
    "\n",
    "def old_load_data(dataset):\n",
    "    # load the data: x, tx, allx, graph\n",
    "    names = ['x', 'tx', 'allx', 'graph']\n",
    "    objects = []\n",
    "    for i in range(len(names)): \n",
    "\n",
    "        # Fixed pkl compatability using with open \n",
    "        with open(\"../data/paperData/ind.{}.{}\".format(dataset, names[i]), 'rb') as rf:\n",
    "            u = pkl._Unpickler(rf)\n",
    "            u.encoding = 'latin1'\n",
    "            cur_data = u.load()\n",
    "            objects.append(cur_data)\n",
    "    x, tx, allx, graph = tuple(objects)\n",
    "    test_idx_reorder = parse_index_file(\n",
    "        \"../data/paperData/ind.{}.test.index\".format(dataset))\n",
    "    test_idx_range = np.sort(test_idx_reorder)    \n",
    "    \n",
    "    if dataset == 'citeseer':\n",
    "        # Fix citeseer dataset (there are some isolated nodes in the graph)\n",
    "        # Find isolated nodes, add them as zero-vecs into the right position\n",
    "        test_idx_range_full = range(\n",
    "            min(test_idx_reorder), max(test_idx_reorder) + 1)\n",
    "        tx_extended = sp.lil_matrix((len(test_idx_range_full), x.shape[1]))\n",
    "        tx_extended[test_idx_range - min(test_idx_range), :] = tx\n",
    "\n",
    "    features = sp.vstack((allx, tx)).tolil()\n",
    "    features[test_idx_reorder, :] = features[test_idx_range, :]\n",
    "    \n",
    "    features = torch.FloatTensor(np.array(features.todense()))\n",
    "    adj = nx.adjacency_matrix(nx.from_dict_of_lists(graph))\n",
    "\n",
    "    return adj, features\n",
    "\n",
    "oldadj, oldfeatures = old_load_data('cora')"
   ]
  },
  {
   "cell_type": "code",
   "execution_count": 3,
   "metadata": {},
   "outputs": [
    {
     "name": "stdout",
     "output_type": "stream",
     "text": [
      "Old adj     :  (2708, 2708) <class 'scipy.sparse.csr.csr_matrix'>\n",
      "Old features:  tensor([[0., 0., 0.,  ..., 0., 0., 0.],\n",
      "        [0., 0., 0.,  ..., 0., 0., 0.],\n",
      "        [0., 0., 0.,  ..., 0., 0., 0.],\n",
      "        ...,\n",
      "        [0., 0., 0.,  ..., 0., 0., 0.],\n",
      "        [0., 0., 0.,  ..., 0., 0., 0.],\n",
      "        [0., 0., 0.,  ..., 0., 0., 0.]]) torch.Size([2708, 1433]) <class 'torch.Tensor'>\n"
     ]
    }
   ],
   "source": [
    "print('Old adj     : ', oldadj.shape, type(oldadj))\n",
    "print('Old features: ', oldfeatures, oldfeatures.shape, type(oldfeatures))"
   ]
  },
  {
   "cell_type": "code",
   "execution_count": 4,
   "metadata": {},
   "outputs": [],
   "source": [
    "from torch_geometric.data import DataLoader\n",
    "from torch_geometric.datasets import MNISTSuperpixels, Planetoid\n",
    "import torch_geometric.transforms as T\n",
    "from collections import defaultdict"
   ]
  },
  {
   "cell_type": "code",
   "execution_count": 5,
   "metadata": {},
   "outputs": [],
   "source": [
    "def new_load_data(dataset):\n",
    "    if dataset == 'cora':\n",
    "        path = '../data/geometric/CORA'\n",
    "        train_loader = Planetoid(path, dataset)\n",
    "        \n",
    "        dataset = train_loader[0]\n",
    "        \n",
    "#         test_idx_range = np.nonzero(dataset['test_mask'])        \n",
    "        \n",
    "        allx = dataset['x'][~dataset.test_mask]\n",
    "        tx = dataset['x'][dataset.test_mask]\n",
    "        features = sp.vstack((allx, tx)).tolil()\n",
    "        features = torch.FloatTensor(np.array(features.todense()))\n",
    "        \n",
    "        edgeList = np.array(dataset['edge_index'].transpose(1, 0))\n",
    "        edgeList = list(map(tuple, edgeList))\n",
    "        \n",
    "        d = defaultdict(list)\n",
    "        for k, v in edgeList:\n",
    "            d[k].append(v)\n",
    "            \n",
    "        \n",
    "        adj = nx.adjacency_matrix(nx.from_dict_of_lists(d))\n",
    "        \n",
    "        return adj, features\n"
   ]
  },
  {
   "cell_type": "code",
   "execution_count": 6,
   "metadata": {},
   "outputs": [
    {
     "name": "stdout",
     "output_type": "stream",
     "text": [
      "New adj     :  (2708, 2708) <class 'scipy.sparse.csr.csr_matrix'>\n",
      "New features:  tensor([[0., 0., 0.,  ..., 0., 0., 0.],\n",
      "        [0., 0., 0.,  ..., 0., 0., 0.],\n",
      "        [0., 0., 0.,  ..., 0., 0., 0.],\n",
      "        ...,\n",
      "        [0., 0., 0.,  ..., 0., 0., 0.],\n",
      "        [0., 0., 0.,  ..., 0., 0., 0.],\n",
      "        [0., 0., 0.,  ..., 0., 0., 0.]]) torch.Size([2708, 1433]) <class 'torch.Tensor'>\n"
     ]
    }
   ],
   "source": [
    "adj, features = new_load_data('cora')\n",
    "\n",
    "print('New adj     : ', adj.shape, type(adj))\n",
    "print('New features: ', features, features.shape, type(features))"
   ]
  },
  {
   "cell_type": "code",
   "execution_count": 7,
   "metadata": {},
   "outputs": [],
   "source": [
    "# # Testing  test_idx_range = np.sort(test_idx_reorder)\n",
    "# path = '../data/geometric/CORA'\n",
    "# train_loader = Planetoid(path, 'cora')\n",
    "\n",
    "# dataset = train_loader[0]\n",
    "\n",
    "# print(np.nonzero(dataset['test_mask']))"
   ]
  },
  {
   "cell_type": "code",
   "execution_count": 8,
   "metadata": {},
   "outputs": [],
   "source": [
    "### Test mask_test_edges function, possibly implement with masking instead"
   ]
  },
  {
   "cell_type": "code",
   "execution_count": 9,
   "metadata": {},
   "outputs": [
    {
     "name": "stdout",
     "output_type": "stream",
     "text": [
      "True\n"
     ]
    }
   ],
   "source": [
    "# print(np.array(features))\n",
    "print(np.array_equal(np.array(oldfeatures), np.array(features)))"
   ]
  },
  {
   "cell_type": "code",
   "execution_count": 10,
   "metadata": {},
   "outputs": [
    {
     "data": {
      "text/plain": [
       "True"
      ]
     },
     "execution_count": 10,
     "metadata": {},
     "output_type": "execute_result"
    }
   ],
   "source": [
    "np.array_equal(np.array(adj.todense()), np.array(oldadj.todense()))"
   ]
  },
  {
   "cell_type": "code",
   "execution_count": 13,
   "metadata": {},
   "outputs": [
    {
     "name": "stdout",
     "output_type": "stream",
     "text": [
      "  (0, 633)\t1\n",
      "  (0, 1862)\t1\n",
      "  (0, 2582)\t1\n",
      "  (1, 2)\t1\n",
      "  (1, 652)\t1\n",
      "  (1, 654)\t1\n",
      "  (2, 1)\t1\n",
      "  (2, 332)\t1\n",
      "  (2, 1454)\t1\n",
      "  (2, 1666)\t1\n",
      "  (2, 1986)\t1\n",
      "  (3, 2544)\t1\n",
      "  (4, 1016)\t1\n",
      "  (4, 1256)\t1\n",
      "  (4, 1761)\t1\n",
      "  (4, 2175)\t1\n",
      "  (4, 2176)\t1\n",
      "  (5, 1629)\t1\n",
      "  (5, 1659)\t1\n",
      "  (5, 2546)\t1\n",
      "  (6, 373)\t1\n",
      "  (6, 1042)\t1\n",
      "  (6, 1416)\t1\n",
      "  (6, 1602)\t1\n",
      "  (7, 208)\t1\n",
      "  :\t:\n",
      "  (2694, 431)\t1\n",
      "  (2694, 2695)\t1\n",
      "  (2695, 431)\t1\n",
      "  (2695, 2694)\t1\n",
      "  (2696, 2615)\t1\n",
      "  (2697, 986)\t1\n",
      "  (2698, 1400)\t1\n",
      "  (2698, 1573)\t1\n",
      "  (2699, 2630)\t1\n",
      "  (2700, 1151)\t1\n",
      "  (2701, 44)\t1\n",
      "  (2701, 2624)\t1\n",
      "  (2702, 186)\t1\n",
      "  (2702, 1536)\t1\n",
      "  (2703, 1298)\t1\n",
      "  (2704, 641)\t1\n",
      "  (2705, 287)\t1\n",
      "  (2706, 165)\t1\n",
      "  (2706, 169)\t1\n",
      "  (2706, 1473)\t1\n",
      "  (2706, 2707)\t1\n",
      "  (2707, 165)\t1\n",
      "  (2707, 598)\t1\n",
      "  (2707, 1473)\t1\n",
      "  (2707, 2706)\t1\n"
     ]
    }
   ],
   "source": [
    "print(adj)"
   ]
  },
  {
   "cell_type": "code",
   "execution_count": 14,
   "metadata": {},
   "outputs": [
    {
     "name": "stdout",
     "output_type": "stream",
     "text": [
      "  (0, 633)\t1\n",
      "  (0, 1862)\t1\n",
      "  (0, 2582)\t1\n",
      "  (1, 2)\t1\n",
      "  (1, 652)\t1\n",
      "  (1, 654)\t1\n",
      "  (2, 1)\t1\n",
      "  (2, 332)\t1\n",
      "  (2, 1454)\t1\n",
      "  (2, 1666)\t1\n",
      "  (2, 1986)\t1\n",
      "  (3, 2544)\t1\n",
      "  (4, 1016)\t1\n",
      "  (4, 1256)\t1\n",
      "  (4, 1761)\t1\n",
      "  (4, 2175)\t1\n",
      "  (4, 2176)\t1\n",
      "  (5, 1629)\t1\n",
      "  (5, 1659)\t1\n",
      "  (5, 2546)\t1\n",
      "  (6, 373)\t1\n",
      "  (6, 1042)\t1\n",
      "  (6, 1416)\t1\n",
      "  (6, 1602)\t1\n",
      "  (7, 208)\t1\n",
      "  :\t:\n",
      "  (2694, 431)\t1\n",
      "  (2694, 2695)\t1\n",
      "  (2695, 431)\t1\n",
      "  (2695, 2694)\t1\n",
      "  (2696, 2615)\t1\n",
      "  (2697, 986)\t1\n",
      "  (2698, 1400)\t1\n",
      "  (2698, 1573)\t1\n",
      "  (2699, 2630)\t1\n",
      "  (2700, 1151)\t1\n",
      "  (2701, 44)\t1\n",
      "  (2701, 2624)\t1\n",
      "  (2702, 186)\t1\n",
      "  (2702, 1536)\t1\n",
      "  (2703, 1298)\t1\n",
      "  (2704, 641)\t1\n",
      "  (2705, 287)\t1\n",
      "  (2706, 165)\t1\n",
      "  (2706, 169)\t1\n",
      "  (2706, 1473)\t1\n",
      "  (2706, 2707)\t1\n",
      "  (2707, 165)\t1\n",
      "  (2707, 598)\t1\n",
      "  (2707, 1473)\t1\n",
      "  (2707, 2706)\t1\n"
     ]
    }
   ],
   "source": [
    "print(oldadj)"
   ]
  },
  {
   "cell_type": "code",
   "execution_count": null,
   "metadata": {},
   "outputs": [],
   "source": []
  }
 ],
 "metadata": {
  "kernelspec": {
   "display_name": "Python 3",
   "language": "python",
   "name": "python3"
  },
  "language_info": {
   "codemirror_mode": {
    "name": "ipython",
    "version": 3
   },
   "file_extension": ".py",
   "mimetype": "text/x-python",
   "name": "python",
   "nbconvert_exporter": "python",
   "pygments_lexer": "ipython3",
   "version": "3.6.7"
  }
 },
 "nbformat": 4,
 "nbformat_minor": 2
}
