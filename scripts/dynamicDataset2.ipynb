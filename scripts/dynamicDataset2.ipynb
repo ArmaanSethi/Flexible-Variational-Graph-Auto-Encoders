{
 "cells": [
  {
   "cell_type": "code",
   "execution_count": 1,
   "metadata": {},
   "outputs": [],
   "source": [
    "from __future__ import print_function, division\n",
    "\n",
    "import networkx as nx\n",
    "from graphviz import Digraph\n",
    "\n",
    "import os\n",
    "import sys\n",
    "import glob\n",
    "import torch\n",
    "import numpy as np\n",
    "import pandas as pd \n",
    "import matplotlib.pyplot as plt\n",
    "\n",
    "from torch.utils.data import Dataset\n",
    "\n",
    "from datasets import dynamicDataset\n",
    "\n",
    "from tqdm import tqdm\n",
    "import warnings\n",
    "\n",
    "warnings.filterwarnings(\"ignore\")\n",
    "\n",
    "%matplotlib inline"
   ]
  },
  {
   "cell_type": "code",
   "execution_count": 26,
   "metadata": {},
   "outputs": [],
   "source": [
    "def buildLaplace(path):\n",
    "    out = []\n",
    "    for filename in tqdm(glob.glob(os.path.join(path, '*.adjlist'))):\n",
    "        G = nx.read_adjlist(filename)\n",
    "        out.append(nx.laplacian_matrix(G))\n",
    "        \n",
    "    return out"
   ]
  },
  {
   "cell_type": "code",
   "execution_count": 27,
   "metadata": {},
   "outputs": [
    {
     "name": "stderr",
     "output_type": "stream",
     "text": [
      "100%|███████████████████████████████████████████████| 79/79 [01:01<00:00,  1.34it/s]\n"
     ]
    }
   ],
   "source": [
    "# Laplacian Matrix low-d embedding\n",
    "df = buildLaplace(\"../data/temp/edgeLists/\")\n",
    "# g = nx.read_adjlist('../data/temp/edgeLists/test78.adjlist')"
   ]
  },
  {
   "cell_type": "code",
   "execution_count": 48,
   "metadata": {},
   "outputs": [
    {
     "name": "stdout",
     "output_type": "stream",
     "text": [
      "79\n",
      "(11, 11)\n"
     ]
    }
   ],
   "source": [
    "print(len(df))\n",
    "print(df[0].toarray().shape)"
   ]
  },
  {
   "cell_type": "code",
   "execution_count": 52,
   "metadata": {},
   "outputs": [
    {
     "name": "stdout",
     "output_type": "stream",
     "text": [
      "  (0, 0)\t0.8888888888888888\n",
      "  (0, 1)\t-0.2357022603955158\n",
      "  (0, 2)\t-0.19245008972987526\n",
      "  (0, 3)\t-0.14907119849998596\n",
      "  (0, 4)\t-0.2357022603955158\n",
      "  (0, 5)\t-0.3333333333333333\n",
      "  (0, 6)\t-0.2357022603955158\n",
      "  (0, 7)\t-0.16666666666666666\n",
      "  (0, 8)\t-0.3333333333333333\n",
      "  (1, 0)\t-0.2357022603955158\n",
      "  (1, 1)\t0.9999999999999998\n",
      "  (1, 7)\t-0.35355339059327373\n",
      "  (2, 0)\t-0.19245008972987526\n",
      "  (2, 2)\t0.6666666666666669\n",
      "  (2, 4)\t-0.408248290463863\n",
      "  (3, 0)\t-0.14907119849998596\n",
      "  (3, 3)\t1.0\n",
      "  (3, 6)\t-0.3162277660168379\n",
      "  (3, 7)\t-0.22360679774997896\n",
      "  (3, 9)\t-0.4472135954999579\n",
      "  (3, 10)\t-0.4472135954999579\n",
      "  (4, 0)\t-0.2357022603955158\n",
      "  (4, 2)\t-0.408248290463863\n",
      "  (4, 4)\t0.9999999999999998\n",
      "  (5, 0)\t-0.3333333333333333\n",
      "  (5, 5)\t1.0\n",
      "  (6, 0)\t-0.2357022603955158\n",
      "  (6, 3)\t-0.3162277660168379\n",
      "  (6, 6)\t0.9999999999999998\n",
      "  (7, 0)\t-0.16666666666666666\n",
      "  (7, 1)\t-0.35355339059327373\n",
      "  (7, 3)\t-0.22360679774997896\n",
      "  (7, 7)\t0.75\n",
      "  (8, 0)\t-0.3333333333333333\n",
      "  (8, 8)\t1.0\n",
      "  (9, 3)\t-0.4472135954999579\n",
      "  (9, 9)\t1.0\n",
      "  (10, 3)\t-0.4472135954999579\n",
      "  (10, 10)\t1.0\n"
     ]
    }
   ],
   "source": [
    "g = nx.read_adjlist('../data/temp/edgeLists/test0.adjlist')\n",
    "norm = nx.normalized_laplacian_matrix(g)\n",
    "print(norm)"
   ]
  },
  {
   "cell_type": "code",
   "execution_count": 2,
   "metadata": {},
   "outputs": [],
   "source": [
    "# OLD, replace adjacency lists with laplacian matrices \n",
    "def init(path):\n",
    "    df = []\n",
    "    for filename in tqdm(glob.glob(os.path.join(path, '*.adjlist'))):\n",
    "        G = nx.read_adjlist(filename)\n",
    "\n",
    "        adjList = []\n",
    "        for adj in nx.generate_adjlist(G):\n",
    "            adjList.append([int(i) for i in adj.split()])\n",
    "        df.append(adjList)\n",
    "        \n",
    "    return df\n",
    "\n",
    "#         source = str(list(nx.degree_centrality(G).keys())[0])\n",
    "#         tree = sorted(list(nx.bfs_tree(G, source=source, depth_limit=4).edges()))"
   ]
  },
  {
   "cell_type": "code",
   "execution_count": 25,
   "metadata": {},
   "outputs": [
    {
     "name": "stderr",
     "output_type": "stream",
     "text": [
      "100%|███████████████████████████████████████████████| 79/79 [00:47<00:00,  1.76it/s]\n"
     ]
    },
    {
     "name": "stdout",
     "output_type": "stream",
     "text": [
      "[1, 4, 2, 16, 28, 1, 25, 22, 3, 27]\n"
     ]
    }
   ],
   "source": [
    "# Timing function to read edgelists \n",
    "out = init(\"../data/temp/edgeLists/\")\n",
    "print(out[0][0])\n",
    "# df = dynamicDataset('../data/temp/edgeLists/')"
   ]
  },
  {
   "cell_type": "code",
   "execution_count": null,
   "metadata": {},
   "outputs": [],
   "source": []
  }
 ],
 "metadata": {
  "kernelspec": {
   "display_name": "Python 3",
   "language": "python",
   "name": "python3"
  },
  "language_info": {
   "codemirror_mode": {
    "name": "ipython",
    "version": 3
   },
   "file_extension": ".py",
   "mimetype": "text/x-python",
   "name": "python",
   "nbconvert_exporter": "python",
   "pygments_lexer": "ipython3",
   "version": "3.6.7"
  }
 },
 "nbformat": 4,
 "nbformat_minor": 2
}
